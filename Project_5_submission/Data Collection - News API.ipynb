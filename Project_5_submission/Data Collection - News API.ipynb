{
 "cells": [
  {
   "cell_type": "code",
   "execution_count": 1,
   "metadata": {},
   "outputs": [],
   "source": [
    "import pandas as pd"
   ]
  },
  {
   "cell_type": "markdown",
   "metadata": {},
   "source": [
    "# News API"
   ]
  },
  {
   "cell_type": "code",
   "execution_count": 2,
   "metadata": {},
   "outputs": [
    {
     "name": "stdout",
     "output_type": "stream",
     "text": [
      "Requirement already satisfied: newsapi-python in /Users/michaelbouzane/anaconda3/lib/python3.7/site-packages (0.2.5)\n",
      "Requirement already satisfied: requests==2.21.0 in /Users/michaelbouzane/anaconda3/lib/python3.7/site-packages (from newsapi-python) (2.21.0)\n",
      "Requirement already satisfied: chardet<3.1.0,>=3.0.2 in /Users/michaelbouzane/anaconda3/lib/python3.7/site-packages (from requests==2.21.0->newsapi-python) (3.0.4)\n",
      "Requirement already satisfied: urllib3<1.25,>=1.21.1 in /Users/michaelbouzane/anaconda3/lib/python3.7/site-packages (from requests==2.21.0->newsapi-python) (1.24.1)\n",
      "Requirement already satisfied: idna<2.9,>=2.5 in /Users/michaelbouzane/anaconda3/lib/python3.7/site-packages (from requests==2.21.0->newsapi-python) (2.8)\n",
      "Requirement already satisfied: certifi>=2017.4.17 in /Users/michaelbouzane/anaconda3/lib/python3.7/site-packages (from requests==2.21.0->newsapi-python) (2019.3.9)\n",
      "Note: you may need to restart the kernel to use updated packages.\n"
     ]
    }
   ],
   "source": [
    "pip install newsapi-python"
   ]
  },
  {
   "cell_type": "code",
   "execution_count": 3,
   "metadata": {},
   "outputs": [],
   "source": [
    "from newsapi import NewsApiClient"
   ]
  },
  {
   "cell_type": "code",
   "execution_count": 4,
   "metadata": {},
   "outputs": [],
   "source": [
    "newsapi = NewsApiClient(api_key='5a06ca0c90c342d3850e0d1ec61b8f7d')"
   ]
  },
  {
   "cell_type": "markdown",
   "metadata": {},
   "source": [
    "# Data Collection Loop "
   ]
  },
  {
   "cell_type": "code",
   "execution_count": 7,
   "metadata": {},
   "outputs": [],
   "source": [
    "news_df = pd.read_csv('articles_all_07-15.csv')"
   ]
  },
  {
   "cell_type": "code",
   "execution_count": 8,
   "metadata": {
    "scrolled": true
   },
   "outputs": [
    {
     "data": {
      "text/plain": [
       "(2672, 9)"
      ]
     },
     "execution_count": 8,
     "metadata": {},
     "output_type": "execute_result"
    }
   ],
   "source": [
    "news_df.shape"
   ]
  },
  {
   "cell_type": "code",
   "execution_count": 9,
   "metadata": {
    "scrolled": true
   },
   "outputs": [
    {
     "name": "stderr",
     "output_type": "stream",
     "text": [
      "/Users/michaelbouzane/anaconda3/lib/python3.7/site-packages/ipykernel_launcher.py:27: FutureWarning: Sorting because non-concatenation axis is not aligned. A future version\n",
      "of pandas will change to not sort by default.\n",
      "\n",
      "To accept the future behavior, pass 'sort=False'.\n",
      "\n",
      "To retain the current behavior and silence the warning, pass 'sort=True'.\n",
      "\n"
     ]
    },
    {
     "name": "stdout",
     "output_type": "stream",
     "text": [
      "successful 1\n",
      "successful 2\n",
      "successful 3\n",
      "successful 4\n",
      "successful 5\n",
      "successful 1\n",
      "successful 2\n",
      "successful 3\n",
      "successful 4\n",
      "successful 5\n",
      "successful 1\n",
      "successful 2\n",
      "successful 3\n",
      "successful 4\n",
      "successful 5\n",
      "successful 1\n",
      "successful 2\n",
      "successful 3\n",
      "successful 4\n",
      "successful 5\n",
      "successful 1\n",
      "successful 2\n",
      "successful 3\n",
      "successful 4\n",
      "successful 5\n",
      "successful 1\n",
      "successful 2\n",
      "successful 3\n",
      "successful 4\n",
      "successful 5\n",
      "successful 1\n",
      "successful 2\n",
      "successful 3\n",
      "successful 4\n",
      "successful 5\n",
      "successful 1\n",
      "successful 2\n",
      "successful 3\n",
      "successful 4\n",
      "successful 5\n",
      "successful 1\n",
      "successful 2\n",
      "successful 3\n",
      "successful 4\n",
      "successful 5\n"
     ]
    }
   ],
   "source": [
    "# key words\n",
    "disasters = ['natural disaster',\n",
    "             'heat wave',\n",
    "             'blizzard', \n",
    "             'tropical storm',\n",
    "             'earthquake', \n",
    "             'fires', \n",
    "             'hurricane', \n",
    "             'polar vortex', \n",
    "             'tornado']\n",
    "\n",
    "#funtion to collect articles from News API\n",
    "def get_articles(event,i):\n",
    "    articles = newsapi.get_everything(q=event,\n",
    "                                      language='en',\n",
    "                                      from_param='2019-07-16',\n",
    "                                      to='2019-07-23',\n",
    "                                      page = i)\n",
    "    articles_df = pd.DataFrame.from_dict(list(articles['articles']))\n",
    "    articles_df['keyword'] = event\n",
    "    return articles_df\n",
    "\n",
    "\n",
    "for item in disasters:\n",
    "    for page in range(1,6):\n",
    "        try:\n",
    "            articles_df = get_articles(item, page)\n",
    "            news_df = pd.concat([news_df,articles_df])\n",
    "            print(\"successful\", page)\n",
    "        except:\n",
    "            print(\"not enough results\", page)"
   ]
  },
  {
   "cell_type": "code",
   "execution_count": 10,
   "metadata": {
    "scrolled": true
   },
   "outputs": [
    {
     "data": {
      "text/plain": [
       "3489"
      ]
     },
     "execution_count": 10,
     "metadata": {},
     "output_type": "execute_result"
    }
   ],
   "source": [
    "len(news_df)"
   ]
  },
  {
   "cell_type": "code",
   "execution_count": 11,
   "metadata": {},
   "outputs": [],
   "source": [
    "news_df['source'] = pd.DataFrame.from_dict(list(news_df['source']))"
   ]
  },
  {
   "cell_type": "code",
   "execution_count": 12,
   "metadata": {},
   "outputs": [],
   "source": [
    "news_df = news_df.drop_duplicates()"
   ]
  },
  {
   "cell_type": "code",
   "execution_count": 13,
   "metadata": {},
   "outputs": [
    {
     "data": {
      "text/plain": [
       "3489"
      ]
     },
     "execution_count": 13,
     "metadata": {},
     "output_type": "execute_result"
    }
   ],
   "source": [
    "len(news_df)"
   ]
  },
  {
   "cell_type": "code",
   "execution_count": 14,
   "metadata": {},
   "outputs": [
    {
     "data": {
      "text/plain": [
       "(3489, 9)"
      ]
     },
     "execution_count": 14,
     "metadata": {},
     "output_type": "execute_result"
    }
   ],
   "source": [
    "news_df.shape"
   ]
  },
  {
   "cell_type": "code",
   "execution_count": 15,
   "metadata": {},
   "outputs": [],
   "source": [
    "news_df.to_csv('articles_all_07-23.csv', index = False)"
   ]
  },
  {
   "cell_type": "code",
   "execution_count": 16,
   "metadata": {},
   "outputs": [
    {
     "data": {
      "text/plain": [
       "(3489, 9)"
      ]
     },
     "execution_count": 16,
     "metadata": {},
     "output_type": "execute_result"
    }
   ],
   "source": [
    "news_df.shape"
   ]
  }
 ],
 "metadata": {
  "kernelspec": {
   "display_name": "Python 3",
   "language": "python",
   "name": "python3"
  },
  "language_info": {
   "codemirror_mode": {
    "name": "ipython",
    "version": 3
   },
   "file_extension": ".py",
   "mimetype": "text/x-python",
   "name": "python",
   "nbconvert_exporter": "python",
   "pygments_lexer": "ipython3",
   "version": "3.7.3"
  }
 },
 "nbformat": 4,
 "nbformat_minor": 2
}
